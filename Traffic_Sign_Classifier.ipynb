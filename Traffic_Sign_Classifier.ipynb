{
 "cells": [
  {
   "cell_type": "markdown",
   "metadata": {},
   "source": [
    "\n",
    "## Step 0: Load The Data\n",
    "\n",
    "Analysis: \n",
    "There are 30 hits required for statistical significance from lecture. \n",
    "\n",
    "\n"
   ]
  },
  {
   "cell_type": "code",
   "execution_count": 22,
   "metadata": {
    "collapsed": true
   },
   "outputs": [],
   "source": [
    "# Load pickled data\n",
    "import pickle\n",
    "import matplotlib.pyplot as plt\n",
    "import cv2\n",
    "import csv\n",
    "import numpy as np\n",
    "from numpy import newaxis\n",
    "import tensorflow as tf\n",
    "from sklearn.utils import shuffle\n",
    "from sklearn.model_selection import train_test_split\n",
    "from matplotlib import gridspec\n",
    "# Visualizations will be shown in the notebook.\n",
    "%matplotlib inline"
   ]
  },
  {
   "cell_type": "code",
   "execution_count": 2,
   "metadata": {
    "collapsed": false
   },
   "outputs": [],
   "source": [
    "#for documentation prove the images in train.p are RGB and not BGR\n",
    "#imgtest=cv2.imread('/Users/dc/Downloads/german_traffic_sign_data/GTSRB/Final_Training/Images/00000/00000_00000.ppm')\n",
    "#print(imgtest.shape)\n",
    "#print (imgtest[:,:,0])\n",
    "#plt.imshow(imgtest[:,:,0]) #first channel B\n"
   ]
  },
  {
   "cell_type": "code",
   "execution_count": 3,
   "metadata": {
    "collapsed": false
   },
   "outputs": [],
   "source": [
    "\n",
    "#print (imgtest[:,:,1])\n",
    "#Eplt.imshow(imgtest[:,:,1]) #first channel G"
   ]
  },
  {
   "cell_type": "code",
   "execution_count": 4,
   "metadata": {
    "collapsed": true
   },
   "outputs": [],
   "source": [
    "#careful we have RGB not BGR\n",
    "#convention uppercase X means list or array, lowercase means single object like image\n",
    "\n",
    "\n",
    "def grayscale(img):\n",
    "    \"\"\"Applies the Grayscale transform\n",
    "    This will return an image with only one color channel\n",
    "    but NOTE: to see the returned image as grayscale\n",
    "    (assuming your grayscaled image is called 'gray')\n",
    "    you should call plt.imshow(gray, cmap='gray')\"\"\"\n",
    "    return cv2.cvtColor(img, cv2.COLOR_BGR2GRAY)\n",
    "    # Or use BGR2GRAY if you read an image with cv2.imread()\n",
    "    # return cv2.cvtColor(img, cv2.COLOR_BGR2GRAY)\n",
    "\n",
    "#test wo scalar RGB adjustments; how much difference?\n",
    "def rgb_to_gray(X_train):\n",
    "    almost_gray = np.add(np.add(X_train[:,:,:,0],X_train[:,:,:,1]),X_train[:,:,:,2])\n",
    "    return almost_gray/3.0\n",
    "\n",
    "#x = 0.299r + 0.587g + 0.114b.\n",
    "def rgb_gray(X_train):\n",
    "    gray = np.add(np.add(X_train[:,:,:,0]*.299,X_train[:,:,:,1]*.587),X_train[:,:,:,2]*.114)\n",
    "    return gray\n",
    "   \n",
    "def normalize(X_train):\n",
    "    return np.divide(np.subtract(X_train,128.),128.)\n",
    "\n",
    "def np_grayscale(img):\n",
    "    return np.array(cv2.cvtColor(img, cv2.COLOR_BGR2GRAY))\n",
    "\n",
    "#input: RGB image, integer for grayscale conversion\n",
    "#output: greyscale image\n",
    "def preprocess(X,version):\n",
    "    if version==0:\n",
    "        return rgb_gray(X)\n",
    "    elif version==1:\n",
    "        return rbg_to_gray(X)\n",
    "    elif version == 2:\n",
    "        return np_grayscale(X)\n",
    "    elif version==3:\n",
    "        return greyscale(X)\n",
    "    else:\n",
    "        print('error preprocess')"
   ]
  },
  {
   "cell_type": "code",
   "execution_count": 5,
   "metadata": {
    "collapsed": false
   },
   "outputs": [
    {
     "name": "stdout",
     "output_type": "stream",
     "text": [
      "{0: 'Speed limit (20km/h)', 1: 'Speed limit (30km/h)', 2: 'Speed limit (50km/h)', 3: 'Speed limit (60km/h)', 4: 'Speed limit (70km/h)', 5: 'Speed limit (80km/h)', 6: 'End of speed limit (80km/h)', 7: 'Speed limit (100km/h)', 8: 'Speed limit (120km/h)', 9: 'No passing', 10: 'No passing for vehicles over 3.5 metric tons', 11: 'Right-of-way at the next intersection', 12: 'Priority road', 13: 'Yield', 14: 'Stop', 15: 'No vehicles', 16: 'Vehicles over 3.5 metric tons prohibited', 17: 'No entry', 18: 'General caution', 19: 'Dangerous curve to the left', 20: 'Dangerous curve to the right', 21: 'Double curve', 22: 'Bumpy road', 23: 'Slippery road', 24: 'Road narrows on the right', 25: 'Road work', 26: 'Traffic signals', 27: 'Pedestrians', 28: 'Children crossing', 29: 'Bicycles crossing', 30: 'Beware of ice/snow', 31: 'Wild animals crossing', 32: 'End of all speed and passing limits', 33: 'Turn right ahead', 34: 'Turn left ahead', 35: 'Ahead only', 36: 'Go straight or right', 37: 'Go straight or left', 38: 'Keep right', 39: 'Keep left', 40: 'Roundabout mandatory', 41: 'End of no passing', 42: 'End of no passing by vehicles over 3.5 metric tons'}\n"
     ]
    }
   ],
   "source": [
    "csv_dict = {}\n",
    "with open('/Users/dc/CarND-Traffic-Sign-Classifier-Project/signnames.csv', 'rt') as csvfile:\n",
    "    reader = csv.reader(csvfile, delimiter=',')\n",
    "    for row in reader:\n",
    "        if (row[0]!='ClassId'):\n",
    "            csv_dict[int(row[0])] = row[1]\n",
    "\n",
    "print (csv_dict)"
   ]
  },
  {
   "cell_type": "code",
   "execution_count": 33,
   "metadata": {
    "collapsed": false
   },
   "outputs": [
    {
     "name": "stdout",
     "output_type": "stream",
     "text": [
      "X_train shape: (39209, 32, 32, 3)\n",
      "y_train (labels for X_train) shape: (39209,)\n",
      "X_train sizes shape: (39209, 2)\n",
      "X_train coords shape: (39209, 4)\n",
      "X_test shape: (12630, 32, 32, 3)\n",
      "y_test (labels for X_test) shape: (12630,)\n",
      "ytest sizes shape: (12630, 2)\n",
      "ytest coords shape: (12630, 4)\n",
      "bounding box coordinates of training image 0: [ 5  6 24 25]\n",
      "X_train_pp shape: (39209, 32, 32)\n",
      "X_test_pp shape: (12630, 32, 32)\n"
     ]
    },
    {
     "data": {
      "text/plain": [
       "<matplotlib.text.Text at 0x12a94c470>"
      ]
     },
     "execution_count": 33,
     "metadata": {},
     "output_type": "execute_result"
    },
    {
     "data": {
      "image/png": "[encoded data removed]",
      "text/plain": [
       "<matplotlib.figure.Figure at 0x1826571d0>"
      ]
     },
     "metadata": {},
     "output_type": "display_data"
    }
   ],
   "source": [
    "# TODO: Fill this in based on where you saved the training and testing dat\n",
    "# the .p files are preprocessed from the download site above\n",
    "training_file = 'train.p'\n",
    "testing_file = 'test.p'\n",
    "\n",
    "with open(training_file, mode='rb') as f:\n",
    "    train = pickle.load(f)\n",
    "with open(testing_file, mode='rb') as f:\n",
    "    test = pickle.load(f)\n",
    "    \n",
    "# we need these later train['sizes'], train['coords']\n",
    "# test['sizes'], test['coords']\n",
    "X_train, y_train = train['features'], train['labels']\n",
    "X_test, y_test = test['features'], test['labels']\n",
    "\n",
    "X_train_pp = preprocess(X_train,version=0)\n",
    "X_test_pp = preprocess(X_test,version=0)\n",
    "\n",
    "print ('X_train shape:',(X_train.shape))\n",
    "print ('y_train (labels for X_train) shape:', y_train.shape)\n",
    "print ('X_train sizes shape:', train['sizes'].shape)\n",
    "print ('X_train coords shape:', train['coords'].shape)\n",
    "\n",
    "\n",
    "print ('X_test shape:',(X_test.shape))\n",
    "print ('y_test (labels for X_test) shape:',(y_test.shape))\n",
    "print ('ytest sizes shape:', (test['sizes'].shape))\n",
    "print ('ytest coords shape:', (test['coords'].shape))\n",
    "\n",
    "print ('bounding box coordinates of training image 0:', train['coords'][0])\n",
    "\n",
    "print('X_train_pp shape:', X_train_pp.shape)\n",
    "print('X_test_pp shape:', X_test_pp.shape)\n",
    "\n",
    "#fig = plt.figure()\n",
    "#fig.add_subplot(1,2,1)\n",
    "#plt.imshow(X_train[0])\n",
    "#plt.title(csv_dict[train['labels'][0]])\n",
    "\n",
    "# wow that really sucks as an image; this is wo gaussian blur!!! The bounding boxes didn't cut off the \n",
    "# rest of the image and pad. Introduces false data into the image. \n",
    "#TBD: find the original image and see if we can clean these up using the bounding box\n",
    "\n",
    "gs1 = gridspec.GridSpec(2, 2)\n",
    "#this spacing doesnt make a difference\n",
    "gs1.update(wspace=2.0, hspace= 2.0)\n",
    "plt.subplot(2,2,1)\n",
    "plt.imshow(X_train[0])\n",
    "plt.title(csv_dict[y_train[0]])\n",
    "#test \n",
    "plt.subplot(2,2,2)\n",
    "plt.imshow(X_test[0])\n",
    "plt.title(csv_dict[y_test[0]])\n",
    "\n",
    "plt.subplot(2,2,3)\n",
    "plt.imshow(X_train_pp[0],cmap='gray')\n",
    "plt.title(csv_dict[y_test[0]])\n",
    "\n",
    "plt.subplot(2,2,4)\n",
    "plt.imshow(X_test_pp[0],cmap='gray')\n",
    "plt.title(csv_dict[y_test[0]])\n"
   ]
  },
  {
   "cell_type": "code",
   "execution_count": 7,
   "metadata": {
    "collapsed": false
   },
   "outputs": [
    {
     "name": "stdout",
     "output_type": "stream",
     "text": [
      "(39209, 32, 32, 3)\n",
      "tgray shape (39209, 32, 32)\n",
      "min-max tgray: 66.587 253.527\n",
      "tgray mean: 81.8998874369\n",
      "min-max t_gray_normalized: -0.977921875 0.9921875\n",
      "mean t_gray_normalized: -0.360157129399\n",
      "min-max tgray_mean: -0.617764745601 1.3523446294\n",
      "mean tgray_mean: 6.75983366641e-16\n",
      "tgray[0] mean 0.35536490833\n"
     ]
    },
    {
     "data": {
      "text/plain": [
       "<matplotlib.image.AxesImage at 0x1681747b8>"
      ]
     },
     "execution_count": 7,
     "metadata": {},
     "output_type": "execute_result"
    },
    {
     "data": {
      "image/png": "[encoded data removed]",
      "text/plain": [
       "<matplotlib.figure.Figure at 0x11807c9b0>"
      ]
     },
     "metadata": {},
     "output_type": "display_data"
    }
   ],
   "source": [
    "\n",
    "print (X_train.shape)\n",
    "tgray = rgb_gray(X_train)\n",
    "\n",
    "print ('tgray shape',tgray.shape)\n",
    "print (\"min-max tgray:\",np.amin(tgray[0]),np.amax(tgray[0]))\n",
    "print ('tgray mean:',np.mean(tgray))\n",
    "\n",
    "t_gray_normalized = normalize(tgray)\n",
    "print (\"min-max t_gray_normalized:\",np.amin(t_gray_normalized),np.amax(t_gray_normalized))\n",
    "print ('mean t_gray_normalized:', np.mean(t_gray_normalized))\n",
    "\n",
    "\n",
    "tgray_mean = t_gray_normalized - np.mean(t_gray_normalized)\n",
    "print (\"min-max tgray_mean:\",np.amin(tgray_mean),np.amax(tgray_mean))\n",
    "print ('mean tgray_mean:', np.mean(tgray_mean))\n",
    "print ('tgray[0] mean',np.mean(tgray_mean[0]))\n",
    "\n",
    "\n",
    "#check\n",
    "fig = plt.figure()\n",
    "a=fig.add_subplot(1,3,1)\n",
    "plt.imshow(tgray[0],cmap='gray')\n",
    "b=fig.add_subplot(1,3,2)\n",
    "plt.imshow(t_gray_normalized[0],cmap='gray')\n",
    "c=fig.add_subplot(1,3,3)\n",
    "plt.imshow(tgray_mean[0],cmap='gray')\n",
    "\n"
   ]
  },
  {
   "cell_type": "code",
   "execution_count": 9,
   "metadata": {
    "collapsed": false
   },
   "outputs": [
    {
     "name": "stdout",
     "output_type": "stream",
     "text": [
      "(39209, 32, 32, 3)\n",
      "test_gray shape (39209, 32, 32)\n"
     ]
    },
    {
     "data": {
      "text/plain": [
       "<matplotlib.image.AxesImage at 0x1684233c8>"
      ]
     },
     "execution_count": 9,
     "metadata": {},
     "output_type": "execute_result"
    },
    {
     "data": {
      "image/png": "[encoded data removed]",
      "text/plain": [
       "<matplotlib.figure.Figure at 0x16816da20>"
      ]
     },
     "metadata": {},
     "output_type": "display_data"
    }
   ],
   "source": []
  },
  {
   "cell_type": "code",
   "execution_count": null,
   "metadata": {
    "collapsed": false
   },
   "outputs": [],
   "source": [
    "\n",
    "\n",
    "#normalize and gray scale\n",
    "#EPOCH 10 ...\n",
    "#Validation Accuracy = 0.977\n",
    "#Test Accuracy = 0.923 test=0\n",
    "\n"
   ]
  },
  {
   "cell_type": "code",
   "execution_count": null,
   "metadata": {
    "collapsed": false
   },
   "outputs": [],
   "source": [
    "#np.set_printoptions(threshold=5000)\n",
    "#print (X_train[0,:,:,0])\n",
    "#plt.imshow(X_train[0,:,:,0])\n"
   ]
  },
  {
   "cell_type": "code",
   "execution_count": null,
   "metadata": {
    "collapsed": false
   },
   "outputs": [],
   "source": [
    "#plt.imshow(X_train[0][:,:,1])\n",
    "#print (X_train[0,:,:,1])\n",
    "#print (X_train[0,:,:,1].shape)"
   ]
  },
  {
   "cell_type": "code",
   "execution_count": null,
   "metadata": {
    "collapsed": false
   },
   "outputs": [],
   "source": [
    "#print(X_train[0,:,:,2])\n",
    "#plt.imshow(X_train[0,:,:,2]) #looks like Blue, matches"
   ]
  },
  {
   "cell_type": "markdown",
   "metadata": {},
   "source": [
    "---\n",
    "\n",
    "## Step 1: Dataset Summary & Exploration\n",
    "\n",
    "The pickled data is a dictionary with 4 key/value pairs:\n",
    "\n",
    "- `'features'` is a 4D array containing raw pixel data of the traffic sign images, (num examples, width, height, channels).\n",
    "- `'labels'` is a 1D array containing the label/class id of the traffic sign. The file `signnames.csv` contains id -> name mappings for each id.\n",
    "- `'sizes'` is a list containing tuples, (width, height) representing the the original width and height the image.\n",
    "- `'coords'` is a list containing tuples, (x1, y1, x2, y2) representing coordinates of a bounding box around the sign in the image. **THESE COORDINATES ASSUME THE ORIGINAL IMAGE. THE PICKLED DATA CONTAINS RESIZED VERSIONS (32 by 32) OF THESE IMAGES**\n",
    "\n",
    "Complete the basic data summary below."
   ]
  },
  {
   "cell_type": "code",
   "execution_count": null,
   "metadata": {
    "collapsed": false
   },
   "outputs": [],
   "source": [
    "### Replace each question mark with the appropriate value.\n",
    "\n",
    "# TODO: Number of training examples\n",
    "n_train = X_train.shape[0]\n",
    "\n",
    "# TODO: Number of testing examples.\n",
    "n_test = y_test.shape[0]\n",
    "\n",
    "# TODO: What's the shape of an traffic sign image?\n",
    "image_shape = X_train[0].shape\n",
    "\n",
    "# TODO: How many unique classes/labels there are in the dataset.\n",
    "n_classes = len(csv_dict)\n",
    "\n",
    "print(\"Number of training examples =\", n_train)\n",
    "print(\"Number of testing examples =\", n_test)\n",
    "print(\"Image data shape =\", image_shape)\n",
    "print(\"Number of classes =\", n_classes)\n",
    "\n",
    "print (type(X_train))"
   ]
  },
  {
   "cell_type": "markdown",
   "metadata": {},
   "source": [
    "Visualize the German Traffic Signs Dataset using the pickled file(s). This is open ended, suggestions include: plotting traffic sign images, plotting the count of each sign, etc.\n",
    "\n",
    "The [Matplotlib](http://matplotlib.org/) [examples](http://matplotlib.org/examples/index.html) and [gallery](http://matplotlib.org/gallery.html) pages are a great resource for doing visualizations in Python.\n",
    "\n",
    "There is a German traffic sign dataset here: \n",
    "http://benchmark.ini.rub.de/?section=gtsrb&subsection=dataset#Downloads\n",
    "\n",
    "**NOTE:** It's recommended you start with something simple first. If you wish to do more, come back to it after you've completed the rest of the sections."
   ]
  },
  {
   "cell_type": "code",
   "execution_count": null,
   "metadata": {
    "collapsed": true
   },
   "outputs": [],
   "source": [
    "#visualize the test dataset first\n",
    "\n",
    "\n",
    "\n"
   ]
  },
  {
   "cell_type": "code",
   "execution_count": null,
   "metadata": {
    "collapsed": false
   },
   "outputs": [],
   "source": [
    "### Data exploration visualization goes here.\n",
    "### Feel free to use as many code cells as needed.\n",
    "\n",
    "\n",
    "#plot histogram of classes/images for training. \n",
    "plt.hist(train['labels'], bins = n_classes)\n",
    "plt.hist(test['labels'], bins=n_classes)\n",
    "\n",
    "#this is awful. Poor distribution. "
   ]
  },
  {
   "cell_type": "markdown",
   "metadata": {},
   "source": [
    "----\n",
    "\n",
    "## Step 2: Design and Test a Model Architecture\n",
    "\n",
    "Design and implement a deep learning model that learns to recognize traffic signs. Train and test your model on the [German Traffic Sign Dataset](http://benchmark.ini.rub.de/?section=gtsrb&subsection=dataset).\n",
    "\n",
    "There are various aspects to consider when thinking about this problem:\n",
    "\n",
    "- Neural network architecture\n",
    "- Play around preprocessing techniques (normalization, rgb to grayscale, etc)\n",
    "- Number of examples per label (some have more than others).\n",
    "- Generate fake data.\n",
    "\n",
    "Here is an example of a [published baseline model on this problem](http://yann.lecun.com/exdb/publis/pdf/sermanet-ijcnn-11.pdf). It's not required to be familiar with the approach used in the paper but, it's good practice to try to read papers like these.\n",
    "\n",
    "**NOTE:** The LeNet-5 implementation shown in the [classroom](https://classroom.udacity.com/nanodegrees/nd013/parts/fbf77062-5703-404e-b60c-95b78b2f3f9e/modules/6df7ae49-c61c-4bb2-a23e-6527e69209ec/lessons/601ae704-1035-4287-8b11-e2c2716217ad/concepts/d4aca031-508f-4e0b-b493-e7b706120f81) at the end of the CNN lesson is a solid starting point. You'll have to change the number of classes and possibly the preprocessing, but aside from that it's plug and play!"
   ]
  },
  {
   "cell_type": "markdown",
   "metadata": {},
   "source": [
    "### Implementation\n",
    "\n",
    "Use the code cell (or multiple code cells, if necessary) to implement the first step of your project. Once you have completed your implementation and are satisfied with the results, be sure to thoroughly answer the questions that follow."
   ]
  },
  {
   "cell_type": "markdown",
   "metadata": {},
   "source": [
    "### Question 1 \n",
    "\n",
    "_Describe how you preprocessed the data. Why did you choose that technique?_"
   ]
  },
  {
   "cell_type": "markdown",
   "metadata": {},
   "source": [
    "**Answer:** grayscale, normalization from lecture and paper. "
   ]
  },
  {
   "cell_type": "code",
   "execution_count": null,
   "metadata": {
    "collapsed": false
   },
   "outputs": [],
   "source": [
    "### Generate additional data (OPTIONAL!)\n",
    "### and split the data into training/validation/testing sets here.\n",
    "### Feel free to use as many code cells as needed.\n",
    "\n",
    "#additional data for classes which are low in training examples, rotate +-15 degrees, translate, histogram for darkness\n",
    "from scipy import ndimage\n",
    "\n",
    "print(\"x:\", x)\n",
    "img = train['features'][x]\n",
    "    \n",
    "label = train['labels'][x]\n",
    "print (csv_dict[label])\n",
    "#reshape adds more black artifacts\n",
    "rot = ndimage.rotate(img,15,reshape=True)\n",
    "\n",
    "print (\"img.shape:\",img.shape,\"rotate shape:\",rot.shape)\n",
    "blur=ndimage.gaussian_filter(rot,.5)\n",
    "print ('blur shape:', blur.shape)\n",
    "#CAREFUL THE CROP MOVES THE IMAGE and makes it bigger!!!\n",
    "#CAREFUL CROP uses gaussian blur output as starting point\n",
    "#crop = blur[7:33,7:33]\n",
    "print ('crop.shape',crop.shape)\n",
    "cols,rows=32,32\n",
    "rotAngle=15\n",
    "scaleFactor=.9\n",
    "M_plus = cv2.getRotationMatrix2D((cols/2,rows/2),rotAngle,scaleFactor)\n",
    "M_minus = cv2.getRotationMatrix2D((cols/2,rows/2),-rotAngle,scaleFactor)\n",
    "#32,32 is final destination size\n",
    "\n",
    "dst_plus = cv2.warpAffine(img,M_plus,(cols,rows))\n",
    "dst_minus = cv2.warpAffine(img,M_minus,(cols,rows))\n",
    "\n",
    "crop_plus = dst_plus[4:30,4:30]\n",
    "crop_minus = dst_minus[4:30,4:30]\n",
    "\n",
    "#we dont need this b/c the warpaffine gives a final size\n",
    "#dst_resize = cv2.resize(dst,(32,32))\n",
    "print('dst_plus shape:', dst_plus.shape)\n",
    "print('dst_minus shape:', dst_minus.shape)\n",
    "print('crop_plus shape:', crop_plus.shape)\n",
    "print('crop_minus shape:', crop_minus.shape)\n",
    "\n",
    "crop_plus_resize = cv2.resize(crop_plus,(32,32))\n",
    "crop_minus_resize = cv2.resize(crop_plus,(32,32))\n",
    "\n",
    "print ('crop_plus_resize shape:', crop_plus_resize.shape)\n",
    "print ('crop_plus_resize shape:', crop_minus_resize.shape)\n",
    "\n",
    "#recenter\n",
    "fig = plt.figure()\n",
    "\n",
    "#there are a couple ways to draw figures in grids. I can never seem to remember them all and websearches are confusing\n",
    "#the easiest is 3 lines\n",
    "# fig = plt.figure\n",
    "# fig.add_subplot(1,7,1) which is 1 row with 7 columns adding first subplot for the last argument\n",
    "# plt.imshow(img)\n",
    "# easy to remember but painful to add more rows or columns cause you have to change all the constants\n",
    "# the second way is to use a plt.tight_layout\n",
    "#\n",
    "#\n",
    "# the third way is to use a gridspec\n",
    "#\n",
    "\n",
    "#plt.tight_layout(pad=0.4, w_pad=0.5, h_pad=1.0)\n",
    "def plotFirst():\n",
    "    fig.add_subplot(1,9,1)\n",
    "    plt.imshow(img)\n",
    "    plt.title('orig')\n",
    "    fig.add_subplot(1,9,2)\n",
    "    plt.imshow(rot)\n",
    "    plt.title('rot(ndimg)')\n",
    "    fig.add_subplot(1,9,3)\n",
    "    plt.imshow(blur)\n",
    "    plt.title('blur')\n",
    "    fig.add_subplot(1,9,4)\n",
    "    plt.imshow(dst_plus)\n",
    "    plt.title('dst_plus')\n",
    "    fig.add_subplot(1,9,5)\n",
    "    plt.imshow(dst_minus)\n",
    "    plt.title('dst_min')\n",
    "    fig.add_subplot(1,9,6)\n",
    "    plt.imshow(crop_plus)\n",
    "    plt.title('crop pls')\n",
    "    fig.add_subplot(1,9,7)\n",
    "    plt.imshow(crop_minus)\n",
    "    plt.title('crop minus')\n",
    "    fig.add_subplot(1,9,8)\n",
    "    plt.imshow(crop_minus_resize)\n",
    "    plt.title('cm resize')\n",
    "    fig.add_subplot(1,9,9)\n",
    "    plt.imshow(crop_plus_resize)\n",
    "    plt.title('plus resize')\n",
    "\n",
    "plotFirst()    \n",
    "#for x in range(len(train['features'])):\n",
    "#break; \n",
    "\n",
    "#note: the crop_plus and crop_minus still look bigger than the original \n",
    "\n"
   ]
  },
  {
   "cell_type": "code",
   "execution_count": null,
   "metadata": {
    "collapsed": false
   },
   "outputs": [],
   "source": [
    "#split train into train/validate\n",
    "print ('X_train grayscale shape', X_train.shape, ' Xtrain labels.shape', train['labels'].shape)\n",
    "\n",
    "#shuffle before creating validation set. \n",
    "X_train, y_train = shuffle(X_train, train['labels'])\n",
    "print (\"after shuffle X_train shape\", X_train.shape, \"y_train shape:\", y_train.shape)\n",
    "\n",
    "X_train, X_valid, y_train, y_valid = train_test_split(X_train, y_train, stratify = y_train, test_size=.2, random_state=123)\n",
    "\n",
    "print (\"X_train\", X_train.shape, \" X_valid:\", X_valid.shape, \" y_train:\", y_train.shape, \" y_valid:\", y_valid.shape)\n",
    "\n",
    "#we want as close to 30k from above calculation\n",
    "\n",
    "#check \n",
    "\n",
    "print (csv_dict[y_train[0]])\n",
    "print (X_train[0].shape)\n"
   ]
  },
  {
   "cell_type": "markdown",
   "metadata": {},
   "source": [
    "### Question 2\n",
    "\n",
    "_Describe how you set up the training, validation and testing data for your model. **Optional**: If you generated additional data, how did you generate the data? Why did you generate the data? What are the differences in the new dataset (with generated data) from the original dataset?_"
   ]
  },
  {
   "cell_type": "markdown",
   "metadata": {},
   "source": [
    "**Answer:**"
   ]
  },
  {
   "cell_type": "code",
   "execution_count": null,
   "metadata": {
    "collapsed": false
   },
   "outputs": [],
   "source": [
    "### Define your architecture here.\n",
    "### Feel free to use as many code cells as needed.\n",
    "\n",
    "\n",
    "\n",
    "EPOCHS = 10\n",
    "BATCH_SIZE = 100\n",
    "patch_size = 5\n",
    "num_color = 1 \n",
    "depth = 6\n",
    "\n",
    "from tensorflow.contrib.layers import flatten\n",
    "\n",
    "\n",
    "def LeNet(x):    \n",
    "    # Arguments used for tf.truncated_normal, randomly defines variables for the weights and biases for each layer\n",
    "    mu = 0\n",
    "    sigma = 0.1\n",
    "    \n",
    "    # SOLUTION: Layer 1: Convolutional. Input = 32x32x1. Output = 28x28x6.\n",
    "    conv1_W = tf.Variable(tf.truncated_normal(shape=(patch_size, patch_size, num_color, depth), mean = mu, stddev = sigma))\n",
    "    conv1_b = tf.Variable(tf.zeros(depth))\n",
    "    conv1   = tf.nn.conv2d(x, conv1_W, strides=[1, 1, 1, 1], padding='VALID') + conv1_b\n",
    "    print (\"befre relu conv1 shape:\", conv1.get_shape())\n",
    "    \n",
    "    # SOLUTION: Activation.\n",
    "    conv1 = tf.nn.relu(conv1)\n",
    "    print (\"after relu conv1 shape:\", conv1.get_shape())\n",
    "    \n",
    "    # SOLUTION: Pooling. Input = 28x28x6. Output = 14x14x6.\n",
    "    conv1 = tf.nn.max_pool(conv1, ksize=[1, 2, 2, 1], strides=[1, 2, 2, 1], padding='VALID')\n",
    "    print (\"after maxpool conv1 shape:\", conv1.get_shape())\n",
    "    \n",
    "    \n",
    "    # SOLUTION: Layer 2: Convolutional. Output = 10x10x16.\n",
    "    conv2_W = tf.Variable(tf.truncated_normal(shape=(5, 5, 6, 16), mean = mu, stddev = sigma))\n",
    "    conv2_b = tf.Variable(tf.zeros(16))\n",
    "    conv2   = tf.nn.conv2d(conv1, conv2_W, strides=[1, 1, 1, 1], padding='VALID') + conv2_b\n",
    "    \n",
    "    print (\"before relu conv2 shape:\", conv1.get_shape())\n",
    "    # SOLUTION: Activation.\n",
    "    conv2 = tf.nn.relu(conv2)\n",
    "    print (\"after relu conv2 shape:\", conv1.get_shape())\n",
    "    \n",
    "    \n",
    "    # SOLUTION: Pooling. Input = 10x10x16. Output = 5x5x16.\n",
    "    conv2 = tf.nn.max_pool(conv2, ksize=[1, 2, 2, 1], strides=[1, 2, 2, 1], padding='VALID')\n",
    "    print (\"after max_pool conv2 shape:\", conv1.get_shape())\n",
    "    \n",
    "    # SOLUTION: Flatten. Input = 5x5x16. Output = 400.\n",
    "    flat = tf.contrib.layers.flatten(conv2)\n",
    "    print (\"flat shape:\",flat.get_shape())\n",
    "    \n",
    "    # SOLUTION: Layer 3: Fully Connected. Input = 400. Output = 120.\n",
    "    fc1_W = tf.Variable(tf.truncated_normal(shape=(400, 200), mean = mu, stddev = sigma))\n",
    "    fc1_b = tf.Variable(tf.zeros(200))\n",
    "    fc1   = tf.matmul(flat, fc1_W) + fc1_b\n",
    "    \n",
    "    print (\"before relu fc1 shape:\", fc1.get_shape())\n",
    "    \n",
    "    # SOLUTION: Activation.\n",
    "    fc1    = tf.nn.relu(fc1)\n",
    "    print (\"after relu fc1 shape:\", fc1.get_shape())\n",
    "    h_fc1_drop = tf.nn.dropout(fc1, keep_prob)\n",
    "    \n",
    "    # SOLUTION: Layer 4: Fully Connected. Input = 120. Output = 84.\n",
    "    fc2_W  = tf.Variable(tf.truncated_normal(shape=(200, 100), mean = mu, stddev = sigma))\n",
    "    fc2_b  = tf.Variable(tf.zeros(100))\n",
    "    fc2    = tf.matmul(h_fc1_drop, fc2_W) + fc2_b\n",
    "    \n",
    "    print (\"before relu fc2 shape:\", fc2.get_shape())\n",
    "    # SOLUTION: Activation.\n",
    "    fc2    = tf.nn.relu(fc2)\n",
    "    print (\"after relu fc2 shape:\", fc2.get_shape())\n",
    "    \n",
    "    h_fc2_drop = tf.nn.dropout(fc2, keep_prob)\n",
    "    \n",
    "    # SOLUTION: Layer 5: Fully Connected. Input = 84. Output = 43.\n",
    "    fc3_W  = tf.Variable(tf.truncated_normal(shape=(100, 43), mean = mu, stddev = sigma))\n",
    "    fc3_b  = tf.Variable(tf.zeros(43))\n",
    "    logits = tf.matmul(h_fc2_drop, fc3_W) + fc3_b\n",
    "    \n",
    "    print ('logits shape:',logits.get_shape())\n",
    "    return logits\n",
    "\n",
    "\n",
    "\n"
   ]
  },
  {
   "cell_type": "code",
   "execution_count": null,
   "metadata": {
    "collapsed": false
   },
   "outputs": [],
   "source": [
    "import tensorflow as tf\n",
    "\n",
    "x = tf.placeholder(tf.float32, (None, 32, 32, 1))\n",
    "y = tf.placeholder(tf.int32, (None))\n",
    "one_hot_y = tf.one_hot(y, 43)\n",
    "#dropout from tf mnist webpage https://www.tensorflow.org/get_started/mnist/pros\n",
    "keep_prob = tf.placeholder(tf.float32)"
   ]
  },
  {
   "cell_type": "code",
   "execution_count": null,
   "metadata": {
    "collapsed": false
   },
   "outputs": [],
   "source": [
    "rate = 0.001\n",
    "\n",
    "logits = LeNet(x)\n",
    "cross_entropy = tf.nn.softmax_cross_entropy_with_logits(logits, one_hot_y)\n",
    "loss_operation = tf.reduce_mean(cross_entropy)\n",
    "optimizer = tf.train.AdamOptimizer(learning_rate = rate)\n",
    "training_operation = optimizer.minimize(loss_operation)"
   ]
  },
  {
   "cell_type": "code",
   "execution_count": null,
   "metadata": {
    "collapsed": false
   },
   "outputs": [],
   "source": [
    "correct_prediction = tf.equal(tf.argmax(logits, 1), tf.argmax(one_hot_y, 1))\n",
    "accuracy_operation = tf.reduce_mean(tf.cast(correct_prediction, tf.float32))\n",
    "saver = tf.train.Saver()\n",
    "\n",
    "\n",
    "def evaluate(X_data, y_data):\n",
    "    num_examples = len(X_data)\n",
    "    total_accuracy = 0\n",
    "    sess = tf.get_default_session()\n",
    "    for offset in range(0, num_examples, BATCH_SIZE):\n",
    "        batch_x, batch_y = X_data[offset:offset+BATCH_SIZE], y_data[offset:offset+BATCH_SIZE]\n",
    "        accuracy = sess.run(accuracy_operation, feed_dict={x: batch_x, y: batch_y, keep_prob: 1.0})\n",
    "        total_accuracy += (accuracy * len(batch_x))\n",
    "    return total_accuracy / num_examples"
   ]
  },
  {
   "cell_type": "code",
   "execution_count": null,
   "metadata": {
    "collapsed": false
   },
   "outputs": [],
   "source": [
    "from sklearn.utils import shuffle\n",
    "\n",
    "print('X_valid shape:', X_valid.shape)\n",
    "print('y_valid shape:', y_valid.shape)\n",
    "print ('X_train shape', X_train.shape)\n",
    "print ('y_train shape', y_train.shape)\n",
    "print ('logits shape:', logits.get_shape())\n",
    "\n",
    "with tf.Session() as sess:\n",
    "    sess.run(tf.global_variables_initializer())\n",
    "    num_examples = len(X_train)\n",
    "    print ('num_examples', num_examples)\n",
    "    print(\"Training...\")\n",
    "    print('X_valid shape:', X_valid.shape)\n",
    "    print('y_valid shape:', y_valid.shape)\n",
    "    print ('X_train shape', X_train.shape)\n",
    "    print ('y_train shape', y_train.shape)\n",
    "    print ('logits shape:', logits.get_shape())\n",
    "\n",
    "    for i in range(EPOCHS):\n",
    "        X_train, y_train = shuffle(X_train, y_train)\n",
    "        for offset in range(0, num_examples, BATCH_SIZE):\n",
    "            end = offset + BATCH_SIZE\n",
    "            #print ('offset:', offset, 'end:',end)\n",
    "            batch_x, batch_y = X_train[offset:end], y_train[offset:end]\n",
    "            #print ('batch_x shape:',batch_x.shape,' batch_y.shape', batch_y.shape)\n",
    "            loss = sess.run(training_operation, feed_dict={x: batch_x, y: batch_y,keep_prob: 0.5})\n",
    "            #print ('loss:',loss)\n",
    "        #\n",
    "        validation_accuracy = evaluate(X_valid, y_valid)\n",
    "        print(\"EPOCH {} ...\".format(i+1))\n",
    "        print(\"Validation Accuracy = {:.3f}\".format(validation_accuracy))\n",
    "        print()\n",
    "        \n",
    "    saver.save(sess, './traffic')\n",
    "    print(\"Model saved\")"
   ]
  },
  {
   "cell_type": "markdown",
   "metadata": {},
   "source": [
    "### Question 3\n",
    "\n",
    "_What does your final architecture look like? (Type of model, layers, sizes, connectivity, etc.)  For reference on how to build a deep neural network using TensorFlow, see [Deep Neural Network in TensorFlow\n",
    "](https://classroom.udacity.com/nanodegrees/nd013/parts/fbf77062-5703-404e-b60c-95b78b2f3f9e/modules/6df7ae49-c61c-4bb2-a23e-6527e69209ec/lessons/b516a270-8600-4f93-a0a3-20dfeabe5da6/concepts/83a3a2a2-a9bd-4b7b-95b0-eb924ab14432) from the classroom._\n"
   ]
  },
  {
   "cell_type": "markdown",
   "metadata": {},
   "source": [
    "**Answer:**"
   ]
  },
  {
   "cell_type": "code",
   "execution_count": null,
   "metadata": {
    "collapsed": false
   },
   "outputs": [],
   "source": [
    "with tf.Session() as sess:\n",
    "    saver.restore(sess, tf.train.latest_checkpoint('.'))\n",
    "\n",
    "    test_accuracy = evaluate(X_test, y_test)\n",
    "    print(\"Test Accuracy = {:.3f}\".format(test_accuracy))"
   ]
  },
  {
   "cell_type": "markdown",
   "metadata": {},
   "source": [
    "### Question 4\n",
    "\n",
    "_How did you train your model? (Type of optimizer, batch size, epochs, hyperparameters, etc.)_\n"
   ]
  },
  {
   "cell_type": "code",
   "execution_count": null,
   "metadata": {
    "collapsed": true
   },
   "outputs": [],
   "source": [
    "**Answer:** Adam Optimizer. \n",
    "    number of training examples = batch_size*#epochs\n",
    "    hyperparamters: "
   ]
  },
  {
   "cell_type": "markdown",
   "metadata": {},
   "source": [
    "### Question 5\n",
    "\n",
    "\n",
    "_What approach did you take in coming up with a solution to this problem? It may have been a process of trial and error, in which case, outline the steps you took to get to the final solution and why you chose those steps. Perhaps your solution involved an already well known implementation or architecture. In this case, discuss why you think this is suitable for the current problem._"
   ]
  },
  {
   "cell_type": "markdown",
   "metadata": {},
   "source": [
    "**Answer:**"
   ]
  },
  {
   "cell_type": "markdown",
   "metadata": {},
   "source": [
    "---\n",
    "\n",
    "## Step 3: Test a Model on New Images\n",
    "\n",
    "Take several pictures of traffic signs that you find on the web or around you (at least five), and run them through your classifier on your computer to produce example results. The classifier might not recognize some local signs but it could prove interesting nonetheless.\n",
    "\n",
    "You may find `signnames.csv` useful as it contains mappings from the class id (integer) to the actual sign name."
   ]
  },
  {
   "cell_type": "markdown",
   "metadata": {},
   "source": [
    "### Implementation\n",
    "\n",
    "Use the code cell (or multiple code cells, if necessary) to implement the first step of your project. Once you have completed your implementation and are satisfied with the results, be sure to thoroughly answer the questions that follow."
   ]
  },
  {
   "cell_type": "code",
   "execution_count": null,
   "metadata": {
    "collapsed": true
   },
   "outputs": [],
   "source": [
    "### Load the images and plot them here.\n",
    "### Feel free to use as many code cells as needed.\n",
    "\n",
    "\n",
    "\n",
    "\n"
   ]
  },
  {
   "cell_type": "markdown",
   "metadata": {},
   "source": [
    "### Question 6\n",
    "\n",
    "_Choose five candidate images of traffic signs and provide them in the report. Are there any particular qualities of the image(s) that might make classification difficult? It could be helpful to plot the images in the notebook._\n",
    "\n"
   ]
  },
  {
   "cell_type": "markdown",
   "metadata": {},
   "source": [
    "**Answer:**"
   ]
  },
  {
   "cell_type": "code",
   "execution_count": null,
   "metadata": {
    "collapsed": true
   },
   "outputs": [],
   "source": [
    "### Run the predictions here.\n",
    "### Feel free to use as many code cells as needed.\n",
    "\n",
    "\n"
   ]
  },
  {
   "cell_type": "markdown",
   "metadata": {},
   "source": [
    "### Question 7\n",
    "\n",
    "_Is your model able to perform equally well on captured pictures when compared to testing on the dataset? The simplest way to do this check the accuracy of the predictions. For example, if the model predicted 1 out of 5 signs correctly, it's 20% accurate._\n",
    "\n",
    "_**NOTE:** You could check the accuracy manually by using `signnames.csv` (same directory). This file has a mapping from the class id (0-42) to the corresponding sign name. So, you could take the class id the model outputs, lookup the name in `signnames.csv` and see if it matches the sign from the image._\n"
   ]
  },
  {
   "cell_type": "markdown",
   "metadata": {},
   "source": [
    "**Answer:**"
   ]
  },
  {
   "cell_type": "code",
   "execution_count": null,
   "metadata": {
    "collapsed": true
   },
   "outputs": [],
   "source": [
    "### Visualize the softmax probabilities here.\n",
    "### Feel free to use as many code cells as needed.\n",
    "\n",
    "\n",
    "\n"
   ]
  },
  {
   "cell_type": "markdown",
   "metadata": {},
   "source": [
    "### Question 8\n",
    "\n",
    "*Use the model's softmax probabilities to visualize the **certainty** of its predictions, [`tf.nn.top_k`](https://www.tensorflow.org/versions/r0.12/api_docs/python/nn.html#top_k) could prove helpful here. Which predictions is the model certain of? Uncertain? If the model was incorrect in its initial prediction, does the correct prediction appear in the top k? (k should be 5 at most)*\n",
    "\n",
    "`tf.nn.top_k` will return the values and indices (class ids) of the top k predictions. So if k=3, for each sign, it'll return the 3 largest probabilities (out of a possible 43) and the correspoding class ids.\n",
    "\n",
    "Take this numpy array as an example:\n",
    "\n",
    "```\n",
    "# (5, 6) array\n",
    "a = np.array([[ 0.24879643,  0.07032244,  0.12641572,  0.34763842,  0.07893497,\n",
    "         0.12789202],\n",
    "       [ 0.28086119,  0.27569815,  0.08594638,  0.0178669 ,  0.18063401,\n",
    "         0.15899337],\n",
    "       [ 0.26076848,  0.23664738,  0.08020603,  0.07001922,  0.1134371 ,\n",
    "         0.23892179],\n",
    "       [ 0.11943333,  0.29198961,  0.02605103,  0.26234032,  0.1351348 ,\n",
    "         0.16505091],\n",
    "       [ 0.09561176,  0.34396535,  0.0643941 ,  0.16240774,  0.24206137,\n",
    "         0.09155967]])\n",
    "```\n",
    "\n",
    "Running it through `sess.run(tf.nn.top_k(tf.constant(a), k=3))` produces:\n",
    "\n",
    "```\n",
    "TopKV2(values=array([[ 0.34763842,  0.24879643,  0.12789202],\n",
    "       [ 0.28086119,  0.27569815,  0.18063401],\n",
    "       [ 0.26076848,  0.23892179,  0.23664738],\n",
    "       [ 0.29198961,  0.26234032,  0.16505091],\n",
    "       [ 0.34396535,  0.24206137,  0.16240774]]), indices=array([[3, 0, 5],\n",
    "       [0, 1, 4],\n",
    "       [0, 5, 1],\n",
    "       [1, 3, 5],\n",
    "       [1, 4, 3]], dtype=int32))\n",
    "```\n",
    "\n",
    "Looking just at the first row we get `[ 0.34763842,  0.24879643,  0.12789202]`, you can confirm these are the 3 largest probabilities in `a`. You'll also notice `[3, 0, 5]` are the corresponding indices."
   ]
  },
  {
   "cell_type": "markdown",
   "metadata": {},
   "source": [
    "**Answer:**"
   ]
  },
  {
   "cell_type": "markdown",
   "metadata": {},
   "source": [
    "> **Note**: Once you have completed all of the code implementations and successfully answered each question above, you may finalize your work by exporting the iPython Notebook as an HTML document. You can do this by using the menu above and navigating to  \\n\",\n",
    "    \"**File -> Download as -> HTML (.html)**. Include the finished document along with this notebook as your submission."
   ]
  },
  {
   "cell_type": "code",
   "execution_count": null,
   "metadata": {
    "collapsed": true
   },
   "outputs": [],
   "source": []
  }
 ],
 "metadata": {
  "anaconda-cloud": {},
  "kernelspec": {
   "display_name": "Python 3",
   "language": "python",
   "name": "python3"
  },
  "language_info": {
   "codemirror_mode": {
    "name": "ipython",
    "version": 3
   },
   "file_extension": ".py",
   "mimetype": "text/x-python",
   "name": "python",
   "nbconvert_exporter": "python",
   "pygments_lexer": "ipython3",
   "version": "3.5.2"
  },
  "widgets": {
   "state": {},
   "version": "1.1.2"
  }
 },
 "nbformat": 4,
 "nbformat_minor": 1
}
